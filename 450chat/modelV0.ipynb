{
 "cells": [
  {
   "cell_type": "markdown",
   "metadata": {},
   "source": [
    "# CS 450 AI Surf Predictions\n",
    "In this project, we are using data about beach conditions to predict surf quality. We train a Random Forest Regressor model using its base hyperparameters, evaluate its results, and then use GridSearchCV to tune the hyperparameters of the Random Forest Regressor model, and run it again. The code is split into four sections, Data Formatting, Default Random Forest Regressor, GridSearchCV, Tuned Random Forest Regressor, and Improvements"
   ]
  },
  {
   "cell_type": "markdown",
   "metadata": {},
   "source": [
    "## Section 1: Data formatting"
   ]
  },
  {
   "cell_type": "code",
   "execution_count": 2,
   "metadata": {},
   "outputs": [],
   "source": [
    "import pandas as pd\n",
    "\n",
    "# Load the dataset\n",
    "file_path = 'waves_statsV1.csv'\n",
    "data = pd.read_csv(file_path)\n",
    "\n",
    "# Define secondary swell columns to check\n",
    "# Seeing if any of these == Nothing, in that case i set to Naan\n",
    "secondary_swell_cols = [\n",
    "    \"Seconday 1 -> height\", \"Seconday 1 -> period\", \"Seconday 1 -> letters\", \"Seconday 1 -> angle\", \"Secondary 1 -> Points off\",\n",
    "    \"Seconday 2 -> height\", \"Seconday 2 -> period\", \"Seconday 2 -> letters\", \"Seconday 2 -> angle\", \"Secondary 2 -> Points off\",\n",
    "    \"Seconday 3 -> height\", \"Seconday 3 -> period\", \"Seconday 3 -> letters\", \"Seconday 3 -> angle\", \"Secondary 3 -> Points off\",\n",
    "    \"Primary -> Points off\",\n",
    "    \"Wind -> Points off\"\n",
    "]\n",
    "\n",
    "# Iterate through rows and check for missing values of the rows in the list up there\n",
    "for index, row in data.iterrows():\n",
    "    for col in secondary_swell_cols:\n",
    "        if pd.isna(row[col]) or row[col] == '':\n",
    "            data.at[index, col] = None  # Replace missing or empty values with None\n",
    "\n",
    "# Display the cleaned dataset\n",
    "# data"
   ]
  },
  {
   "cell_type": "code",
   "execution_count": null,
   "metadata": {},
   "outputs": [],
   "source": [
    "# Dropping Columns that are not nessesary for predicitng surf quality\n",
    "#  we need to remove all of the unesseary features, since i picked all beach breaks on the pacific west coast, we are treating\n",
    "# this as one surf break, no need to include directios relative to the shore line nor location/date/times.\n",
    "\n",
    "# List of columns to drop\n",
    "columns_to_drop = [\n",
    "    \"DocumentID\", \"DatesDocumentID\", \"timestamp\", \"name\", \"County\", \"Name\", \"data\",\n",
    "    \"Surf Height: Direction\",\n",
    "    \"Seconday 1 -> letters\",\n",
    "    \"Primary -> letters\",\n",
    "    \"Seconday 2 -> letters\",\n",
    "    \"Seconday 3 -> letters\",\n",
    "    \"Wind Direction (NSEW)\"\n",
    "]\n",
    "\n",
    "# Drop the columns from the DataFrame\n",
    "data_swell = data.drop(columns=columns_to_drop)\n",
    "\n",
    "# shuffling all lines, forecasts are cumlative which means it would be biased if we split the data without shuffling\n",
    "data_swell = data_swell.sample(frac=1, random_state=42).reset_index(drop=True)\n",
    "\n",
    "# Display updated dataset\n",
    "# data_swell"
   ]
  },
  {
   "cell_type": "markdown",
   "metadata": {},
   "source": [
    "## Section 2: Default Random Forest Regressor"
   ]
  },
  {
   "cell_type": "code",
   "execution_count": 4,
   "metadata": {},
   "outputs": [
    {
     "name": "stdout",
     "output_type": "stream",
     "text": [
      "Mean Absolute Error (MAE): 0.10833271118506758\n",
      "R-squared Score: 0.9591199732559867\n",
      "10 most important features:\n",
      "                                      Feature  Importance\n",
      "3                                  Wave Power    0.767161\n",
      "22                         Wind -> Points off    0.083602\n",
      "25      Wind Direction (Human Relation)_glass    0.070053\n",
      "21                         Primary Wind Speed    0.012145\n",
      "20                     Wind Direction (Angle)    0.010908\n",
      "24   Wind Direction (Human Relation)_cross-on    0.009128\n",
      "23  Wind Direction (Human Relation)_cross-off    0.004770\n",
      "13                       Seconday 2 -> period    0.004321\n",
      "14                        Seconday 2 -> angle    0.003483\n",
      "10                        Seconday 1 -> angle    0.002993\n"
     ]
    }
   ],
   "source": [
    "from sklearn.ensemble import RandomForestRegressor\n",
    "from sklearn.metrics import mean_absolute_error, r2_score\n",
    "from sklearn.model_selection import train_test_split\n",
    "import pandas as pd\n",
    "\n",
    "# Convert categorical column to one-hot encoding\n",
    "data_swell_encoded = pd.get_dummies(data_swell, columns=[\"Wind Direction (Human Relation)\"], drop_first=True)\n",
    "\n",
    "# Features and target\n",
    "features = data_swell_encoded.drop(columns=['Star Rating'])\n",
    "target = data_swell_encoded['Star Rating']\n",
    "\n",
    "# Split the data into training and test sets\n",
    "X_train, X_test, y_train, y_test = train_test_split(features, target, test_size=0.2, random_state=42)\n",
    "\n",
    "# Initialize and train the model\n",
    "model = RandomForestRegressor(random_state=42)\n",
    "model.fit(X_train, y_train)\n",
    "\n",
    "# Predict on the test set\n",
    "predictions = model.predict(X_test)\n",
    "\n",
    "# Evaluate the model\n",
    "default_mae = mean_absolute_error(y_test, predictions)\n",
    "default_r2 = r2_score(y_test, predictions)\n",
    "\n",
    "# Output evaluation metrics\n",
    "print(f\"Mean Absolute Error (MAE): {default_mae}\")\n",
    "print(f\"R-squared Score: {default_r2}\")\n",
    "\n",
    "# Feature importance (optional)\n",
    "feature_importances = pd.DataFrame({\n",
    "    'Feature': X_train.columns,\n",
    "    'Importance': model.feature_importances_\n",
    "}).sort_values(by='Importance', ascending=False)\n",
    "\n",
    "print(\"10 most important features:\")\n",
    "print(feature_importances.head(10))"
   ]
  },
  {
   "cell_type": "markdown",
   "metadata": {},
   "source": [
    "## Section 3: GridSearchCV"
   ]
  },
  {
   "cell_type": "code",
   "execution_count": 5,
   "metadata": {},
   "outputs": [
    {
     "name": "stdout",
     "output_type": "stream",
     "text": [
      "Fitting 3 folds for each of 108 candidates, totalling 324 fits\n",
      "Best Parameters: {'max_depth': 20, 'min_samples_leaf': 1, 'min_samples_split': 2, 'n_estimators': 200}\n",
      "Best MAE: 0.11380886932102396\n"
     ]
    }
   ],
   "source": [
    "from sklearn.model_selection import GridSearchCV\n",
    "\n",
    "# Define parameter grid\n",
    "param_grid = {\n",
    "    'n_estimators': [50, 100, 200],\n",
    "    'max_depth': [None, 10, 20, 30],\n",
    "    'min_samples_split': [2, 5, 10],\n",
    "    'min_samples_leaf': [1, 2, 4]\n",
    "}\n",
    "\n",
    "# Initialize grid search\n",
    "grid_search = GridSearchCV(estimator=RandomForestRegressor(random_state=42), \n",
    "                           param_grid=param_grid, \n",
    "                           cv=3, \n",
    "                           scoring='neg_mean_absolute_error', \n",
    "                           verbose=1, \n",
    "                           n_jobs=-1)\n",
    "\n",
    "# Perform the search\n",
    "grid_search.fit(X_train, y_train)\n",
    "\n",
    "# Display the best parameters and their score\n",
    "print(f\"Best Parameters: {grid_search.best_params_}\")\n",
    "print(f\"Best MAE: {-grid_search.best_score_}\")"
   ]
  },
  {
   "cell_type": "markdown",
   "metadata": {},
   "source": [
    "## Section 4: Tuned Random Forest Regressor"
   ]
  },
  {
   "cell_type": "code",
   "execution_count": 6,
   "metadata": {},
   "outputs": [
    {
     "name": "stdout",
     "output_type": "stream",
     "text": [
      "Mean Absolute Error (MAE): 0.10801981854811511\n",
      "R-squared Score: 0.9595541760983707\n",
      "10 most important features:\n",
      "                                      Feature  Importance\n",
      "3                                  Wave Power    0.768122\n",
      "22                         Wind -> Points off    0.082723\n",
      "25      Wind Direction (Human Relation)_glass    0.069589\n",
      "21                         Primary Wind Speed    0.012213\n",
      "20                     Wind Direction (Angle)    0.010926\n",
      "24   Wind Direction (Human Relation)_cross-on    0.009432\n",
      "23  Wind Direction (Human Relation)_cross-off    0.004760\n",
      "13                       Seconday 2 -> period    0.004257\n",
      "14                        Seconday 2 -> angle    0.003504\n",
      "10                        Seconday 1 -> angle    0.002852\n"
     ]
    }
   ],
   "source": [
    "# Update the model with best parameters\n",
    "tuned_model = grid_search.best_estimator_\n",
    "tuned_model.fit(X_train, y_train)\n",
    "\n",
    "# Predict on the test set\n",
    "predictions = tuned_model.predict(X_test)\n",
    "\n",
    "# Evaluate the model\n",
    "tuned_mae = mean_absolute_error(y_test, predictions)\n",
    "tuned_r2 = r2_score(y_test, predictions)\n",
    "\n",
    "# Output evaluation metrics\n",
    "print(f\"Mean Absolute Error (MAE): {tuned_mae}\")\n",
    "print(f\"R-squared Score: {tuned_r2}\")\n",
    "\n",
    "# Feature importance\n",
    "feature_importances = pd.DataFrame({\n",
    "    'Feature': X_train.columns,\n",
    "    'Importance': tuned_model.feature_importances_\n",
    "}).sort_values(by='Importance', ascending=False)\n",
    "\n",
    "print(\"10 most important features:\")\n",
    "print(feature_importances.head(10))"
   ]
  },
  {
   "cell_type": "markdown",
   "metadata": {},
   "source": [
    "## Section 5: Improvements"
   ]
  },
  {
   "cell_type": "code",
   "execution_count": 7,
   "metadata": {},
   "outputs": [
    {
     "name": "stdout",
     "output_type": "stream",
     "text": [
      "Default Model Performance:\n",
      "MAE: 0.1083\n",
      "R²: 0.9591\n",
      "\n",
      "Tuned Model Performance:\n",
      "MAE: 0.1080\n",
      "R²: 0.9596\n",
      "\n",
      "Performance Improvement After Hyperparameter Tuning:\n",
      "MAE Improvement: 0.0003\n",
      "R² Improvement: 0.0004\n"
     ]
    }
   ],
   "source": [
    "# Default model\n",
    "print(\"Default Model Performance:\")\n",
    "print(f\"MAE: {default_mae:.4f}\")\n",
    "print(f\"R²: {default_r2:.4f}\")\n",
    "\n",
    "# Tuned model\n",
    "print(\"\\nTuned Model Performance:\")\n",
    "print(f\"MAE: {tuned_mae:.4f}\")\n",
    "print(f\"R²: {tuned_r2:.4f}\")\n",
    "\n",
    "# Calculate improvements\n",
    "mae_improvement = default_mae - tuned_mae\n",
    "r2_improvement = tuned_r2 - default_r2\n",
    "\n",
    "# Display improvements\n",
    "print(\"\\nPerformance Improvement After Hyperparameter Tuning:\")\n",
    "print(f\"MAE Improvement: {mae_improvement:.4f}\")\n",
    "print(f\"R² Improvement: {r2_improvement:.4f}\")"
   ]
  },
  {
   "cell_type": "code",
   "execution_count": null,
   "metadata": {},
   "outputs": [
    {
     "data": {
      "image/png": "[encoded data removed]",
      "text/plain": [
       "<Figure size 800x600 with 1 Axes>"
      ]
     },
     "metadata": {},
     "output_type": "display_data"
    }
   ],
   "source": [
    "import matplotlib.pyplot as plt\n",
    "\n",
    "# Define the values for the original and tuned models\n",
    "metrics = ['MAE', 'R²']\n",
    "default_performance = [default_mae, default_r2]\n",
    "tuned_performance = [tuned_mae, tuned_r2]\n",
    "improvements = [default_mae - tuned_mae, tuned_r2 - default_r2]\n",
    "\n",
    "# Create a bar chart\n",
    "fig, ax = plt.subplots(figsize=(8, 6))\n",
    "\n",
    "# Bar positions for default and tuned model\n",
    "bar_width = 0.35\n",
    "index = range(len(metrics))\n",
    "\n",
    "# Plot bars for default and tuned models\n",
    "bar1 = ax.bar(index, default_performance, bar_width, label='Default Model')\n",
    "bar2 = ax.bar([i + bar_width for i in index], tuned_performance, bar_width, label='Tuned Model')\n",
    "\n",
    "# Add labels and title\n",
    "ax.set_xlabel('Metric')\n",
    "ax.set_ylabel('Score')\n",
    "ax.set_title('Comparison of Default and Tuned Model Performance')\n",
    "ax.set_xticks([i + bar_width / 2 for i in index])  # Positioning the x-axis labels between bars\n",
    "ax.set_xticklabels(metrics)\n",
    "ax.legend()\n",
    "\n",
    "# Display the improvements\n",
    "for i, v in enumerate(improvements):\n",
    "    ax.text(i + bar_width / 2, max(default_performance[i], tuned_performance[i]) + 0.005,\n",
    "            f'{v:.4f}', ha='center', va='bottom', fontsize=12)\n",
    "\n",
    "# Show the plot\n",
    "plt.tight_layout()\n",
    "plt.show()"
   ]
  }
 ],
 "metadata": {
  "kernelspec": {
   "display_name": "Python 3",
   "language": "python",
   "name": "python3"
  },
  "language_info": {
   "codemirror_mode": {
    "name": "ipython",
    "version": 3
   },
   "file_extension": ".py",
   "mimetype": "text/x-python",
   "name": "python",
   "nbconvert_exporter": "python",
   "pygments_lexer": "ipython3",
   "version": "3.12.3"
  }
 },
 "nbformat": 4,
 "nbformat_minor": 2
}
